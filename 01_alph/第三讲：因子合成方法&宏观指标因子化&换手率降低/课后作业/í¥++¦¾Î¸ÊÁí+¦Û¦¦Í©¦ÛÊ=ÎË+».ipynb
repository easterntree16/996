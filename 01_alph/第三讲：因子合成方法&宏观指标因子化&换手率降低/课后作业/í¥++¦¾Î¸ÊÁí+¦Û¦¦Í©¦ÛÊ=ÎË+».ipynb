{
 "cells": [
  {
   "cell_type": "code",
   "execution_count": 2,
   "metadata": {},
   "outputs": [],
   "source": [
    "from init import *"
   ]
  },
  {
   "cell_type": "code",
   "execution_count": 1,
   "metadata": {},
   "outputs": [],
   "source": [
    "from rqfactor.extension import UserDefinedLeafFactor,CombinedCrossSectionalFactor\n",
    "\n",
    "import numpy as np\n",
    "import pandas as pd\n",
    "\n",
    "class FAMA(object):\n",
    "    \n",
    "    def __init__(self):\n",
    "        \n",
    "        #自定义股票收益率因子\n",
    "        def Stocks_Return(order_book_ids, start_date, end_date):\n",
    "            return get_price_change_rate(order_book_ids, start_date, end_date).reindex(columns = order_book_ids)\n",
    "        \n",
    "        self.stocks_return = UserDefinedLeafFactor('stocks_return', Stocks_Return) \n",
    "        self.market_cap = Factor('market_cap_3')\n",
    "        self.bm = 1/Factor('pb_ratio_lf')\n",
    "        self.roe=Factor('net_profit_parent_company_ttm_0')/Factor('equity_parent_company_mrq_0')\n",
    "        self.asset=(Factor('total_assets_mrq_0')-Factor('total_assets_mrq_4'))/ABS(Factor('total_assets_mrq_4'))\n",
    "    \n",
    "    def get_fama_three_factors(self):\n",
    "        \n",
    "        def fama_three_factors(stocks_return, market_cap, bm):\n",
    "            \n",
    "            bs = market_cap.apply(lambda x: pd.qcut(x, 2, labels=['S','B']), axis=1)\n",
    "            hml = bm.apply(lambda x: pd.qcut(x, [0, 0.3, 0.7, 1], labels=['L','M','H']), axis=1)\n",
    "            #smb计算时长：0:01:07.841932\n",
    "            smb = np.where((bs=='S') & (hml=='L'), 'SL', \n",
    "                           np.where((bs=='S') & (hml=='M'), 'SM',\n",
    "                                    np.where((bs=='S') & (hml=='H'), 'SH',\n",
    "                                             np.where((bs=='B') & (hml=='L'), 'BL',\n",
    "                                                      np.where((bs=='B') & (hml=='M'), 'BM',\n",
    "                                                               np.where((bs=='B') & (hml=='H'), 'BH', np.nan))))))\n",
    "            \n",
    "            stocks_return_weighted = stocks_return*market_cap\n",
    "            sl = np.nansum(np.where(smb == 'SL', stocks_return_weighted, np.nan), axis=1)/np.nansum(market_cap, axis=1)\n",
    "            sm = np.nansum(np.where(smb == 'SM', stocks_return_weighted, np.nan), axis=1)/np.nansum(market_cap, axis=1)\n",
    "            sh = np.nansum(np.where(smb == 'SH', stocks_return_weighted, np.nan), axis=1)/np.nansum(market_cap, axis=1)\n",
    "            bl = np.nansum(np.where(smb == 'BL', stocks_return_weighted, np.nan), axis=1)/np.nansum(market_cap, axis=1)\n",
    "            bm = np.nansum(np.where(smb == 'BM', stocks_return_weighted, np.nan), axis=1)/np.nansum(market_cap, axis=1)\n",
    "            bh = np.nansum(np.where(smb == 'BH', stocks_return_weighted, np.nan), axis=1)/np.nansum(market_cap, axis=1)\n",
    "\n",
    "            fama = pd.DataFrame(data = {'SMB':(sl + sm + sh)/3 - (bl + bm + bh)/3, 'HML':(sh + bh)/2 - (sl + bl)/2},\n",
    "                                index = stocks_return_weighted.index)\n",
    "            \n",
    "            rm = get_price_change_rate('000985.XSHG', stocks_return_weighted.index[0], stocks_return_weighted.index[-1])\n",
    "            rf = get_yield_curve(stocks_return_weighted.index[0], stocks_return_weighted.index[-1], tenor='0S', market='cn') \n",
    "            rb = pd.concat([rm, rf], axis=1)\n",
    "            rb.columns=['Rm', 'Rf']\n",
    "            rb['Rb'] = rb['Rm'] - ((rb['Rf'] + 1)** (1/252) - 1)\n",
    "            \n",
    "            fama = pd.concat([fama, rb['Rb']], axis=1)\n",
    "            \n",
    "            return fama.dropna(how='all')\n",
    "        \n",
    "        def FAMA_Three_Factors(*f):\n",
    "            return CombinedCrossSectionalFactor(fama_three_factors, *f)\n",
    "        \n",
    "        ff3 = FAMA_Three_Factors(self.stocks_return, self.market_cap, self.bm)\n",
    "        return ff3"
   ]
  },
  {
   "cell_type": "code",
   "execution_count": 3,
   "metadata": {},
   "outputs": [],
   "source": [
    "# 宏观指标因子化\n",
    "def micro_index_factor(df):\n",
    "    \"\"\"\n",
    "    :param df:宏观因子 -> df\n",
    "    :param name:宏观因子名称(df.columns) -> str\n",
    "    :return micro_index:宏观因子值 -> unstack\n",
    "    \"\"\"\n",
    "    name = df.columns.tolist()\n",
    "    start_date = df.index[0].strftime('%F')\n",
    "    end_date = df.index[-1].strftime('%F')\n",
    "    try:\n",
    "        fama_data = pd.read_pickle(f'fama_data_{start_date}_{end_date}.pkl')\n",
    "        rp = pd.read_pickle(f'rp_{start_date}_{end_date}.pkl').sort_index()\n",
    "    except:\n",
    "        # Fama模型构建\n",
    "        f = FAMA().get_fama_three_factors()\n",
    "        fama_data = execute_factor(f,stock_list,start_date,end_date)\n",
    "        fama_data.to_pickle(f'fama_data_{start_date}_{end_date}.pkl')\n",
    "        # 标的收益构建\n",
    "        rf = (get_yield_curve(get_previous_trading_date(start_date,19), end_date, tenor='5Y', market='cn') + 1) ** (1/252) - 1\n",
    "        ret = execute_factor(PCT_CHANGE(Factor('close'),1),stock_list,start_date,end_date)\n",
    "        rp = ret.sub(rf.loc[ret.index,'5Y'].to_list(),axis=0).sort_index()\n",
    "        rp.to_pickle(f'rp_{start_date}_{end_date}.pkl')\n",
    "\n",
    "    daily_x = pd.concat([df,fama_data],axis = 1).ffill().dropna()\n",
    "    daily_x = daily_x.drop_duplicates(subset=name)\n",
    "\n",
    "    rp = rp.rolling(20,1).mean()\n",
    "    rp = rp.loc[list(set(rp.index) & set(daily_x.index))].sort_index()\n",
    "    \n",
    "    num = daily_x.shape[0]\n",
    "    ts_df = pd.DataFrame()\n",
    "    for i in tqdm(range(12,num)):\n",
    "        end = daily_x.iloc[i].name\n",
    "        start = daily_x.iloc[i-12].name\n",
    "        rp_temp = rp.loc[start:end]\n",
    "        daily_x_temp = daily_x.loc[start:end].dropna()\n",
    "        x_index = set(daily_x_temp.index)\n",
    "        cs_dict = {}\n",
    "        for s in stock_list:\n",
    "            try:\n",
    "                rp_temp_stock = rp_temp[s].dropna()\n",
    "                y_index = set(rp_temp_stock.index)\n",
    "                inter_index = sorted(list(x_index & y_index))\n",
    "                x = np.array(daily_x_temp.loc[inter_index])\n",
    "                y = np.transpose([np.array(rp_temp_stock.loc[inter_index])])\n",
    "                epu_value = np.dot(np.dot(np.linalg.inv(np.dot(x.T,x)),x.T),y)[0][0]\n",
    "            except:\n",
    "                epu_value = np.nan\n",
    "            cs_dict[s] = epu_value\n",
    "        cs_df = pd.DataFrame([cs_dict],index = [end])\n",
    "        ts_df = pd.concat([ts_df,cs_df],axis = 0)\n",
    "\n",
    "    micro_index = ts_df.reindex(pd.to_datetime(get_trading_dates(start_date,end_date))).ffill().dropna(how = 'all')\n",
    "    micro_index = micro_index.mask(~index_fix)\n",
    "    \n",
    "    return micro_index"
   ]
  },
  {
   "cell_type": "markdown",
   "metadata": {},
   "source": [
    "### 数据获取"
   ]
  },
  {
   "cell_type": "code",
   "execution_count": 5,
   "metadata": {},
   "outputs": [],
   "source": [
    "dataset = pd.read_excel('宏观指标.xlsx',index_col=[0],parse_dates=[0]).iloc[2:-1]\n",
    "dataset.index = pd.to_datetime(dataset.index )\n",
    "dataset.columns = ['GDP','CPI','SF','M2','PMI']\n",
    "dataset = dataset.sort_index()"
   ]
  },
  {
   "cell_type": "code",
   "execution_count": 9,
   "metadata": {},
   "outputs": [],
   "source": [
    "micro_dict = {}\n",
    "for i in dataset.columns.tolist():\n",
    "    micro_dict[i] = dataset[[i]].ffill().loc['2016-01-01':]"
   ]
  },
  {
   "cell_type": "code",
   "execution_count": 12,
   "metadata": {},
   "outputs": [
    {
     "name": "stdout",
     "output_type": "stream",
     "text": [
      "GDP loading ... \n"
     ]
    },
    {
     "name": "stderr",
     "output_type": "stream",
     "text": [
      "100%|██████████| 19/19 [00:31<00:00,  1.64s/it]\n"
     ]
    },
    {
     "name": "stdout",
     "output_type": "stream",
     "text": [
      "CPI loading ... \n"
     ]
    },
    {
     "name": "stderr",
     "output_type": "stream",
     "text": [
      "100%|██████████| 54/54 [01:36<00:00,  1.79s/it]\n"
     ]
    },
    {
     "name": "stdout",
     "output_type": "stream",
     "text": [
      "SF loading ... \n"
     ]
    },
    {
     "name": "stderr",
     "output_type": "stream",
     "text": [
      "100%|██████████| 78/78 [02:40<00:00,  2.05s/it]\n"
     ]
    },
    {
     "name": "stdout",
     "output_type": "stream",
     "text": [
      "M2 loading ... \n"
     ]
    },
    {
     "name": "stderr",
     "output_type": "stream",
     "text": [
      "100%|██████████| 78/78 [02:06<00:00,  1.63s/it]\n"
     ]
    },
    {
     "name": "stdout",
     "output_type": "stream",
     "text": [
      "PMI loading ... \n"
     ]
    },
    {
     "name": "stderr",
     "output_type": "stream",
     "text": [
      "100%|██████████| 25/25 [00:41<00:00,  1.67s/it]\n"
     ]
    }
   ],
   "source": [
    "micro_index_dict = {}\n",
    "for k,v in micro_dict.items():\n",
    "    print(k,'loading ... ')\n",
    "    micro_index_dict[k] = micro_index_factor(v).mask(~index_fix)"
   ]
  },
  {
   "cell_type": "markdown",
   "metadata": {},
   "source": [
    "### 因子检验"
   ]
  },
  {
   "cell_type": "code",
   "execution_count": 15,
   "metadata": {},
   "outputs": [
    {
     "name": "stdout",
     "output_type": "stream",
     "text": [
      "中信行业数据已获取\n",
      "动态行业数据已构建\n"
     ]
    },
    {
     "name": "stderr",
     "output_type": "stream",
     "text": [
      "100%|██████████| 908/908 [00:08<00:00, 105.73it/s]\n"
     ]
    },
    {
     "name": "stdout",
     "output_type": "stream",
     "text": [
      "{'name': 'GDP', 'IC mean': -0.022, 'IC std': 0.0802, 'IR': -0.2739, 'IR_ly': -0.4194, 'IC>0': 0.4178, 'ABS_IC>2%': 0.8187, 't_stat': -8.1621}\n",
      "中信行业数据已获取\n",
      "动态行业数据已构建\n"
     ]
    },
    {
     "name": "stderr",
     "output_type": "stream",
     "text": [
      "100%|██████████| 1542/1542 [00:19<00:00, 80.74it/s]\n"
     ]
    },
    {
     "name": "stdout",
     "output_type": "stream",
     "text": [
      "{'name': 'CPI', 'IC mean': -0.029, 'IC std': 0.0805, 'IR': -0.3604, 'IR_ly': -0.644, 'IC>0': 0.3811, 'ABS_IC>2%': 0.8364, 't_stat': -14.0612}\n"
     ]
    },
    {
     "name": "stderr",
     "output_type": "stream",
     "text": [
      "100%|██████████| 1542/1542 [00:22<00:00, 68.22it/s]\n"
     ]
    },
    {
     "name": "stdout",
     "output_type": "stream",
     "text": [
      "{'name': 'SF', 'IC mean': -0.0284, 'IC std': 0.0737, 'IR': -0.3855, 'IR_ly': -0.3641, 'IC>0': 0.3252, 'ABS_IC>2%': 0.8081, 't_stat': -15.0409}\n"
     ]
    },
    {
     "name": "stderr",
     "output_type": "stream",
     "text": [
      "100%|██████████| 1542/1542 [00:25<00:00, 60.88it/s]\n"
     ]
    },
    {
     "name": "stdout",
     "output_type": "stream",
     "text": [
      "{'name': 'M2', 'IC mean': -0.0318, 'IC std': 0.0726, 'IR': -0.4375, 'IR_ly': -0.362, 'IC>0': 0.3068, 'ABS_IC>2%': 0.8292, 't_stat': -17.0665}\n",
      "中信行业数据已获取\n",
      "动态行业数据已构建\n"
     ]
    },
    {
     "name": "stderr",
     "output_type": "stream",
     "text": [
      "100%|██████████| 1519/1519 [00:21<00:00, 69.21it/s]\n"
     ]
    },
    {
     "name": "stdout",
     "output_type": "stream",
     "text": [
      "{'name': 'PMI', 'IC mean': -0.0247, 'IC std': 0.075, 'IR': -0.3298, 'IR_ly': -0.3967, 'IC>0': 0.3889, 'ABS_IC>2%': 0.7999, 't_stat': -12.7682}\n"
     ]
    }
   ],
   "source": [
    "ic_summary = pd.DataFrame()\n",
    "for k,v in micro_index_dict.items():\n",
    "    v = data_clean(v).abs()  # 这里沿用EPU因子的处理abs\n",
    "    df,ic_summary_temp = Quick_Factor_Return_N_IC(v,20,k)\n",
    "    ic_summary = pd.concat([ic_summary,ic_summary_temp],axis = 0)"
   ]
  },
  {
   "cell_type": "code",
   "execution_count": 16,
   "metadata": {},
   "outputs": [
    {
     "data": {
      "text/html": [
       "<div>\n",
       "<style scoped>\n",
       "    .dataframe tbody tr th:only-of-type {\n",
       "        vertical-align: middle;\n",
       "    }\n",
       "\n",
       "    .dataframe tbody tr th {\n",
       "        vertical-align: top;\n",
       "    }\n",
       "\n",
       "    .dataframe thead th {\n",
       "        text-align: right;\n",
       "    }\n",
       "</style>\n",
       "<table border=\"1\" class=\"dataframe\">\n",
       "  <thead>\n",
       "    <tr style=\"text-align: right;\">\n",
       "      <th></th>\n",
       "      <th>name</th>\n",
       "      <th>IC mean</th>\n",
       "      <th>IC std</th>\n",
       "      <th>IR</th>\n",
       "      <th>IR_ly</th>\n",
       "      <th>IC&gt;0</th>\n",
       "      <th>ABS_IC&gt;2%</th>\n",
       "      <th>t_stat</th>\n",
       "    </tr>\n",
       "  </thead>\n",
       "  <tbody>\n",
       "    <tr>\n",
       "      <th>0</th>\n",
       "      <td>GDP</td>\n",
       "      <td>-0.0220</td>\n",
       "      <td>0.0802</td>\n",
       "      <td>-0.2739</td>\n",
       "      <td>-0.4194</td>\n",
       "      <td>0.4178</td>\n",
       "      <td>0.8187</td>\n",
       "      <td>-8.1621</td>\n",
       "    </tr>\n",
       "    <tr>\n",
       "      <th>0</th>\n",
       "      <td>CPI</td>\n",
       "      <td>-0.0290</td>\n",
       "      <td>0.0805</td>\n",
       "      <td>-0.3604</td>\n",
       "      <td>-0.6440</td>\n",
       "      <td>0.3811</td>\n",
       "      <td>0.8364</td>\n",
       "      <td>-14.0612</td>\n",
       "    </tr>\n",
       "    <tr>\n",
       "      <th>0</th>\n",
       "      <td>SF</td>\n",
       "      <td>-0.0284</td>\n",
       "      <td>0.0737</td>\n",
       "      <td>-0.3855</td>\n",
       "      <td>-0.3641</td>\n",
       "      <td>0.3252</td>\n",
       "      <td>0.8081</td>\n",
       "      <td>-15.0409</td>\n",
       "    </tr>\n",
       "    <tr>\n",
       "      <th>0</th>\n",
       "      <td>M2</td>\n",
       "      <td>-0.0318</td>\n",
       "      <td>0.0726</td>\n",
       "      <td>-0.4375</td>\n",
       "      <td>-0.3620</td>\n",
       "      <td>0.3068</td>\n",
       "      <td>0.8292</td>\n",
       "      <td>-17.0665</td>\n",
       "    </tr>\n",
       "    <tr>\n",
       "      <th>0</th>\n",
       "      <td>PMI</td>\n",
       "      <td>-0.0247</td>\n",
       "      <td>0.0750</td>\n",
       "      <td>-0.3298</td>\n",
       "      <td>-0.3967</td>\n",
       "      <td>0.3889</td>\n",
       "      <td>0.7999</td>\n",
       "      <td>-12.7682</td>\n",
       "    </tr>\n",
       "  </tbody>\n",
       "</table>\n",
       "</div>"
      ],
      "text/plain": [
       "  name  IC mean  IC std      IR   IR_ly    IC>0  ABS_IC>2%   t_stat\n",
       "0  GDP  -0.0220  0.0802 -0.2739 -0.4194  0.4178     0.8187  -8.1621\n",
       "0  CPI  -0.0290  0.0805 -0.3604 -0.6440  0.3811     0.8364 -14.0612\n",
       "0   SF  -0.0284  0.0737 -0.3855 -0.3641  0.3252     0.8081 -15.0409\n",
       "0   M2  -0.0318  0.0726 -0.4375 -0.3620  0.3068     0.8292 -17.0665\n",
       "0  PMI  -0.0247  0.0750 -0.3298 -0.3967  0.3889     0.7999 -12.7682"
      ]
     },
     "execution_count": 16,
     "metadata": {},
     "output_type": "execute_result"
    }
   ],
   "source": [
    "ic_summary"
   ]
  },
  {
   "cell_type": "code",
   "execution_count": null,
   "metadata": {},
   "outputs": [],
   "source": []
  }
 ],
 "metadata": {
  "kernelspec": {
   "display_name": "nichengyu",
   "language": "python",
   "name": "python3"
  },
  "language_info": {
   "codemirror_mode": {
    "name": "ipython",
    "version": 3
   },
   "file_extension": ".py",
   "mimetype": "text/x-python",
   "name": "python",
   "nbconvert_exporter": "python",
   "pygments_lexer": "ipython3",
   "version": "3.9.15"
  },
  "orig_nbformat": 4
 },
 "nbformat": 4,
 "nbformat_minor": 2
}
